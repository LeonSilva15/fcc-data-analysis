{
  "nbformat": 4,
  "nbformat_minor": 0,
  "metadata": {
    "colab": {
      "provenance": [],
      "authorship_tag": "ABX9TyNbnd58AvR7hM8WDGXF2V4z",
      "include_colab_link": true
    },
    "kernelspec": {
      "name": "python3",
      "display_name": "Python 3"
    },
    "language_info": {
      "name": "python"
    }
  },
  "cells": [
    {
      "cell_type": "markdown",
      "metadata": {
        "id": "view-in-github",
        "colab_type": "text"
      },
      "source": [
        "<a href=\"https://colab.research.google.com/github/LeonSilva15/fcc-data-analysis/blob/main/demographic_data_analysis.ipynb\" target=\"_parent\"><img src=\"https://colab.research.google.com/assets/colab-badge.svg\" alt=\"Open In Colab\"/></a>"
      ]
    },
    {
      "cell_type": "code",
      "execution_count": 2,
      "metadata": {
        "id": "gKNBraw6R_Ue"
      },
      "outputs": [],
      "source": [
        "import pandas as pd\n",
        "import unittest"
      ]
    },
    {
      "cell_type": "code",
      "source": [
        "!wget 'https://raw.githubusercontent.com/LeonSilva15/fcc-data-analysis/main/data/adult.data.csv'"
      ],
      "metadata": {
        "colab": {
          "base_uri": "https://localhost:8080/"
        },
        "id": "iDfY7OUJHyhu",
        "outputId": "6f89e384-65cd-4641-fd18-8a266dda8f66"
      },
      "execution_count": 65,
      "outputs": [
        {
          "output_type": "stream",
          "name": "stdout",
          "text": [
            "--2023-10-14 21:39:50--  https://raw.githubusercontent.com/LeonSilva15/fcc-data-analysis/main/data/adult.data.csv\n",
            "Resolving raw.githubusercontent.com (raw.githubusercontent.com)... 185.199.108.133, 185.199.109.133, 185.199.110.133, ...\n",
            "Connecting to raw.githubusercontent.com (raw.githubusercontent.com)|185.199.108.133|:443... connected.\n",
            "HTTP request sent, awaiting response... 200 OK\n",
            "Length: 3518607 (3.4M) [text/plain]\n",
            "Saving to: ‘adult.data.csv.1’\n",
            "\n",
            "\radult.data.csv.1      0%[                    ]       0  --.-KB/s               \radult.data.csv.1    100%[===================>]   3.36M  --.-KB/s    in 0.02s   \n",
            "\n",
            "2023-10-14 21:39:50 (220 MB/s) - ‘adult.data.csv.1’ saved [3518607/3518607]\n",
            "\n"
          ]
        }
      ]
    },
    {
      "cell_type": "code",
      "source": [
        "# Read data from file\n",
        "df = pd.read_csv( 'adult.data.csv' )\n",
        "print( df.info() )\n",
        "print( df.head() )"
      ],
      "metadata": {
        "colab": {
          "base_uri": "https://localhost:8080/"
        },
        "id": "anorTR6_WASw",
        "outputId": "5ec83f58-02de-4539-e5a9-6530bf8a97e7"
      },
      "execution_count": 4,
      "outputs": [
        {
          "output_type": "stream",
          "name": "stdout",
          "text": [
            "<class 'pandas.core.frame.DataFrame'>\n",
            "RangeIndex: 32561 entries, 0 to 32560\n",
            "Data columns (total 15 columns):\n",
            " #   Column          Non-Null Count  Dtype \n",
            "---  ------          --------------  ----- \n",
            " 0   age             32561 non-null  int64 \n",
            " 1   workclass       32561 non-null  object\n",
            " 2   fnlwgt          32561 non-null  int64 \n",
            " 3   education       32561 non-null  object\n",
            " 4   education-num   32561 non-null  int64 \n",
            " 5   marital-status  32561 non-null  object\n",
            " 6   occupation      32561 non-null  object\n",
            " 7   relationship    32561 non-null  object\n",
            " 8   race            32561 non-null  object\n",
            " 9   sex             32561 non-null  object\n",
            " 10  capital-gain    32561 non-null  int64 \n",
            " 11  capital-loss    32561 non-null  int64 \n",
            " 12  hours-per-week  32561 non-null  int64 \n",
            " 13  native-country  32561 non-null  object\n",
            " 14  salary          32561 non-null  object\n",
            "dtypes: int64(6), object(9)\n",
            "memory usage: 3.7+ MB\n",
            "None\n",
            "   age         workclass  fnlwgt  education  education-num  \\\n",
            "0   39         State-gov   77516  Bachelors             13   \n",
            "1   50  Self-emp-not-inc   83311  Bachelors             13   \n",
            "2   38           Private  215646    HS-grad              9   \n",
            "3   53           Private  234721       11th              7   \n",
            "4   28           Private  338409  Bachelors             13   \n",
            "\n",
            "       marital-status         occupation   relationship   race     sex  \\\n",
            "0       Never-married       Adm-clerical  Not-in-family  White    Male   \n",
            "1  Married-civ-spouse    Exec-managerial        Husband  White    Male   \n",
            "2            Divorced  Handlers-cleaners  Not-in-family  White    Male   \n",
            "3  Married-civ-spouse  Handlers-cleaners        Husband  Black    Male   \n",
            "4  Married-civ-spouse     Prof-specialty           Wife  Black  Female   \n",
            "\n",
            "   capital-gain  capital-loss  hours-per-week native-country salary  \n",
            "0          2174             0              40  United-States  <=50K  \n",
            "1             0             0              13  United-States  <=50K  \n",
            "2             0             0              40  United-States  <=50K  \n",
            "3             0             0              40  United-States  <=50K  \n",
            "4             0             0              40           Cuba  <=50K  \n"
          ]
        }
      ]
    },
    {
      "cell_type": "code",
      "source": [
        "def calculate_demographic_data( print_data=True ):\n",
        "    # How many of each race are represented in this dataset? This should be a Pandas series with race names as the index labels.\n",
        "    race_count = df['race'].value_counts()\n",
        "\n",
        "    # What is the average age of men?\n",
        "    average_age_men = df.loc[ df['sex'] == 'Male', 'age' ].mean()\n",
        "\n",
        "    # What is the percentage of people who have a Bachelor's degree?\n",
        "    percentage_bachelors = df.loc[ df['education'] == 'Bachelors' ].shape[0] / df.shape[0] * 100\n",
        "\n",
        "    # What percentage of people with advanced education (`Bachelors`, `Masters`, or `Doctorate`) make more than 50K?\n",
        "    # What percentage of people without advanced education make more than 50K?\n",
        "\n",
        "    # with and without `Bachelors`, `Masters`, or `Doctorate`\n",
        "    higher_levels = ['Bachelors', 'Masters', 'Doctorate']\n",
        "\n",
        "    # percentage with salary >50K\n",
        "    higher_education_df = df[ df['education'].isin(  higher_levels ) ]\n",
        "    higher_education_rich = higher_education_df[higher_education_df['salary'] == '>50K'].shape[0] / higher_education_df.shape[0] * 100\n",
        "\n",
        "    lower_education_df = df[ ~df['education'].isin( higher_levels ) ]\n",
        "    lower_education_rich = lower_education_df[ df['salary'] == '>50K' ].shape[0] / lower_education_df.shape[0] * 100\n",
        "\n",
        "    # What is the minimum number of hours a person works per week (hours-per-week feature)?\n",
        "\n",
        "    min_work_hours = df['hours-per-week'].min()\n",
        "\n",
        "    # What percentage of the people who work the minimum number of hours per week have a salary of >50K?\n",
        "    num_min_workers = df.loc[ (df['hours-per-week'] == df['hours-per-week'].min())].shape[0]\n",
        "    rich_percentage = df.loc[ (df['hours-per-week'] == df['hours-per-week'].min()) & (df['salary'] == '>50K') ].shape[0] / num_min_workers * 100\n",
        "\n",
        "\n",
        "    # What country has the highest percentage of people that earn >50K?\n",
        "    country_earning_df = df[ df['salary'] == '>50K'][ 'native-country' ].value_counts()\n",
        "    country_earning_percentage_df = country_earning_df / df[ 'native-country' ].value_counts()\n",
        "\n",
        "    highest_earning_country = country_earning_percentage_df.idxmax()\n",
        "    highest_earning_country_percentage = country_earning_percentage_df.max() * 100\n",
        "\n",
        "    # Identify the most popular occupation for those who earn >50K in India.\n",
        "    top_IN_occupation_df = df[ (df['native-country'] == 'India') & (df['salary'] == '>50K') ][ 'occupation' ].value_counts()\n",
        "    top_IN_occupation = top_IN_occupation_df.idxmax()\n",
        "\n",
        "    # DO NOT MODIFY BELOW THIS LINE\n",
        "\n",
        "    if print_data:\n",
        "        print(\"Number of each race:\\n\", race_count)\n",
        "        print(\"Average age of men:\", average_age_men)\n",
        "        print(f\"Percentage with Bachelors degrees: {percentage_bachelors}%\")\n",
        "        print(f\"Percentage with higher education that earn >50K: {higher_education_rich}%\")\n",
        "        print(f\"Percentage without higher education that earn >50K: {lower_education_rich}%\")\n",
        "        print(f\"Min work time: {min_work_hours} hours/week\")\n",
        "        print(f\"Percentage of rich among those who work fewest hours: {rich_percentage}%\")\n",
        "        print(\"Country with highest percentage of rich:\", highest_earning_country)\n",
        "        print(f\"Highest percentage of rich people in country: {highest_earning_country_percentage}%\")\n",
        "        print(\"Top occupations in India:\", top_IN_occupation)\n",
        "\n",
        "    return {\n",
        "        'race_count': race_count,\n",
        "        'average_age_men': round(average_age_men,1),\n",
        "        'percentage_bachelors': round(percentage_bachelors,1),\n",
        "        'higher_education_rich': round(higher_education_rich,1),\n",
        "        'lower_education_rich': round(lower_education_rich,1),\n",
        "        'min_work_hours': min_work_hours,\n",
        "        'rich_percentage': rich_percentage,\n",
        "        'highest_earning_country': highest_earning_country,\n",
        "        'highest_earning_country_percentage':\n",
        "        round(highest_earning_country_percentage,1),\n",
        "        'top_IN_occupation': top_IN_occupation\n",
        "    }\n",
        "\n",
        "# calculate_demographic_data()"
      ],
      "metadata": {
        "id": "y9x7ld02Tm4N"
      },
      "execution_count": 63,
      "outputs": []
    },
    {
      "cell_type": "code",
      "source": [
        "class DemographicAnalyzerTestCase(unittest.TestCase):\n",
        "    @classmethod\n",
        "    def setUpClass(self):\n",
        "        self.data = calculate_demographic_data(print_data = False)\n",
        "\n",
        "    def test_race_count(self):\n",
        "        actual = self.data['race_count'].tolist()\n",
        "        expected = [27816, 3124, 1039, 311, 271]\n",
        "        self.assertCountEqual(actual, expected, msg=\"Expected race count values to be [27816, 3124, 1039, 311, 271]\")\n",
        "\n",
        "    def test_average_age_men(self):\n",
        "        actual = self.data['average_age_men']\n",
        "        expected = 39.4\n",
        "        self.assertAlmostEqual(actual, expected, msg=\"Expected different value for average age of men.\")\n",
        "\n",
        "    def test_percentage_bachelors(self):\n",
        "        actual = self.data['percentage_bachelors']\n",
        "        expected = 16.4\n",
        "        self.assertAlmostEqual(actual, expected, msg=\"Expected different value for percentage with Bachelors degrees.\")\n",
        "\n",
        "    def test_higher_education_rich(self):\n",
        "        actual = self.data['higher_education_rich']\n",
        "        expected = 46.5\n",
        "        self.assertAlmostEqual(actual, expected, msg=\"Expected different value for percentage with higher education that earn >50K.\")\n",
        "\n",
        "    def test_lower_education_rich(self):\n",
        "        actual = self.data['lower_education_rich']\n",
        "        expected = 17.4\n",
        "        self.assertAlmostEqual(actual, expected, msg=\"Expected different value for percentage without higher education that earn >50K.\")\n",
        "\n",
        "    def test_min_work_hours(self):\n",
        "        actual = self.data['min_work_hours']\n",
        "        expected = 1\n",
        "        self.assertAlmostEqual(actual, expected, msg=\"Expected different value for minimum work hours.\")\n",
        "\n",
        "    def test_rich_percentage(self):\n",
        "        actual = self.data['rich_percentage']\n",
        "        expected = 10\n",
        "        self.assertAlmostEqual(actual, expected, msg=\"Expected different value for percentage of rich among those who work fewest hours.\")\n",
        "\n",
        "    def test_highest_earning_country(self):\n",
        "        actual = self.data['highest_earning_country']\n",
        "        expected = 'Iran'\n",
        "        self.assertEqual(actual, expected, \"Expected different value for highest earning country.\")\n",
        "\n",
        "    def test_highest_earning_country_percentage(self):\n",
        "        actual = self.data['highest_earning_country_percentage']\n",
        "        expected = 41.9\n",
        "        self.assertAlmostEqual(actual, expected, msg=\"Expected different value for highest earning country percentage.\")\n",
        "\n",
        "    def test_top_IN_occupation(self):\n",
        "        actual = self.data['top_IN_occupation']\n",
        "        expected = 'Prof-specialty'\n",
        "        self.assertEqual(actual, expected, \"Expected different value for top occupations in India.\")"
      ],
      "metadata": {
        "id": "zAFon6abT4fW"
      },
      "execution_count": 54,
      "outputs": []
    },
    {
      "cell_type": "code",
      "source": [
        "# Run unit tests\n",
        "unittest.main( argv=[''], verbosity=2, exit=False )"
      ],
      "metadata": {
        "colab": {
          "base_uri": "https://localhost:8080/"
        },
        "id": "nPCi0_l4FWP_",
        "outputId": "94a12db6-9269-4673-df38-bb3ba7d0b1e3"
      },
      "execution_count": 64,
      "outputs": [
        {
          "output_type": "stream",
          "name": "stderr",
          "text": [
            "<ipython-input-63-9e407d5e0c36>:22: UserWarning: Boolean Series key will be reindexed to match DataFrame index.\n",
            "  lower_education_rich = lower_education_df[ df['salary'] == '>50K' ].shape[0] / lower_education_df.shape[0] * 100\n",
            "test_average_age_men (__main__.DemographicAnalyzerTestCase) ... ok\n",
            "test_higher_education_rich (__main__.DemographicAnalyzerTestCase) ... ok\n",
            "test_highest_earning_country (__main__.DemographicAnalyzerTestCase) ... ok\n",
            "test_highest_earning_country_percentage (__main__.DemographicAnalyzerTestCase) ... ok\n",
            "test_lower_education_rich (__main__.DemographicAnalyzerTestCase) ... ok\n",
            "test_min_work_hours (__main__.DemographicAnalyzerTestCase) ... ok\n",
            "test_percentage_bachelors (__main__.DemographicAnalyzerTestCase) ... ok\n",
            "test_race_count (__main__.DemographicAnalyzerTestCase) ... ok\n",
            "test_rich_percentage (__main__.DemographicAnalyzerTestCase) ... ok\n",
            "test_top_IN_occupation (__main__.DemographicAnalyzerTestCase) ... ok\n",
            "\n",
            "----------------------------------------------------------------------\n",
            "Ran 10 tests in 0.084s\n",
            "\n",
            "OK\n"
          ]
        },
        {
          "output_type": "execute_result",
          "data": {
            "text/plain": [
              "<unittest.main.TestProgram at 0x7d40ae262b30>"
            ]
          },
          "metadata": {},
          "execution_count": 64
        }
      ]
    }
  ]
}