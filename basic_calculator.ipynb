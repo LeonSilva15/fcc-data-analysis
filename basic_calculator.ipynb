{
  "nbformat": 4,
  "nbformat_minor": 0,
  "metadata": {
    "colab": {
      "provenance": [],
      "toc_visible": true,
      "authorship_tag": "ABX9TyMmycbPdoRsOSB9WFeVfRn0",
      "include_colab_link": true
    },
    "kernelspec": {
      "name": "python3",
      "display_name": "Python 3"
    },
    "language_info": {
      "name": "python"
    }
  },
  "cells": [
    {
      "cell_type": "markdown",
      "metadata": {
        "id": "view-in-github",
        "colab_type": "text"
      },
      "source": [
        "<a href=\"https://colab.research.google.com/github/LeonSilva15/fcc-data-analysis/blob/main/basic_calculator.ipynb\" target=\"_parent\"><img src=\"https://colab.research.google.com/assets/colab-badge.svg\" alt=\"Open In Colab\"/></a>"
      ]
    },
    {
      "cell_type": "code",
      "execution_count": 3,
      "metadata": {
        "id": "gMdkHVDXIbUs"
      },
      "outputs": [],
      "source": [
        "import numpy as np\n",
        "import unittest"
      ]
    },
    {
      "cell_type": "code",
      "source": [
        "def get_results( arr_method ):\n",
        "  return [\n",
        "      arr_method(axis=0).tolist(),\n",
        "      arr_method(axis=1).tolist(),\n",
        "      arr_method()\n",
        "  ]\n",
        "\n",
        "def calculate(list):\n",
        "  if len(list) != 9:\n",
        "    raise ValueError('List must contain nine numbers.')\n",
        "\n",
        "  arr = np.resize(list, (3, 3))\n",
        "  calculations = {\n",
        "      'mean': get_results( arr.mean ),\n",
        "      'variance': get_results( arr.var ),\n",
        "      'standard deviation': get_results( arr.std ),\n",
        "      'max': get_results( arr.max ),\n",
        "      'min': get_results( arr.min ),\n",
        "      'sum': get_results( arr.sum ),\n",
        "  }\n",
        "\n",
        "  return calculations"
      ],
      "metadata": {
        "id": "-qAVRJItKZYK"
      },
      "execution_count": 28,
      "outputs": []
    },
    {
      "cell_type": "code",
      "source": [
        "class UnitTests(unittest.TestCase):\n",
        "    def test_calculate(self):\n",
        "        actual = calculate([2,6,2,8,4,0,1,5,7])\n",
        "        expected = {\n",
        "            'mean': [[3.6666666666666665, 5.0, 3.0], [3.3333333333333335, 4.0, 4.333333333333333], 3.888888888888889],\n",
        "            'variance': [[9.555555555555557, 0.6666666666666666, 8.666666666666666], [3.555555555555556, 10.666666666666666, 6.222222222222221], 6.987654320987654],\n",
        "            'standard deviation': [[3.091206165165235, 0.816496580927726, 2.943920288775949], [1.8856180831641267, 3.265986323710904, 2.494438257849294], 2.6434171674156266],\n",
        "            'max': [[8, 6, 7], [6, 8, 7], 8],\n",
        "            'min': [[1, 4, 0], [2, 0, 1], 0],\n",
        "            'sum': [[11, 15, 9], [10, 12, 13], 35]\n",
        "        }\n",
        "        self.assertAlmostEqual(actual, expected, \"Expected different output when calling 'calculate()' with '[2,6,2,8,4,0,1,5,7]'\")\n",
        "\n",
        "    def test_calculate2(self):\n",
        "        actual = calculate([9,1,5,3,3,3,2,9,0])\n",
        "        expected = {\n",
        "            'mean': [[4.666666666666667, 4.333333333333333, 2.6666666666666665], [5.0, 3.0, 3.6666666666666665], 3.888888888888889],\n",
        "            'variance': [[9.555555555555555, 11.555555555555557, 4.222222222222222], [10.666666666666666, 0.0, 14.888888888888891], 9.209876543209875],\n",
        "            'standard deviation': [[3.0912061651652345, 3.39934634239519, 2.0548046676563256], [3.265986323710904, 0.0, 3.8586123009300755], 3.0347778408328137],\n",
        "            'max': [[9, 9, 5], [9, 3, 9], 9],\n",
        "            'min': [[2, 1, 0], [1, 3, 0], 0],\n",
        "            'sum': [[14, 13, 8], [15, 9, 11], 35]\n",
        "        }\n",
        "        self.assertAlmostEqual(actual, expected, \"Expected different output when calling 'calculate()' with '[9,1,5,3,3,3,2,9,0]'\")\n",
        "\n",
        "    def test_calculate_with_few_digits(self):\n",
        "        self.assertRaisesRegex(ValueError, \"List must contain nine numbers.\", calculate, [2,6,2,8,4,0,1,])"
      ],
      "metadata": {
        "id": "ef53GYZsKR5q"
      },
      "execution_count": 24,
      "outputs": []
    },
    {
      "cell_type": "code",
      "source": [
        "print(calculate([0, 1, 2, 3, 4, 5, 6, 7, 8]))\n",
        "\n",
        "# Run unit tests\n",
        "unittest.main( argv=[''], verbosity=2, exit=False )"
      ],
      "metadata": {
        "colab": {
          "base_uri": "https://localhost:8080/"
        },
        "id": "03Pn8XvGLC1F",
        "outputId": "a560b9f7-8511-4f73-d618-45050d3854e7"
      },
      "execution_count": 29,
      "outputs": [
        {
          "output_type": "stream",
          "name": "stderr",
          "text": [
            "test_calculate (__main__.UnitTests) ... ok\n",
            "test_calculate2 (__main__.UnitTests) ... ok\n",
            "test_calculate_with_few_digits (__main__.UnitTests) ... ok\n",
            "\n",
            "----------------------------------------------------------------------\n",
            "Ran 3 tests in 0.023s\n",
            "\n",
            "OK\n"
          ]
        },
        {
          "output_type": "stream",
          "name": "stdout",
          "text": [
            "{'mean': [[3.0, 4.0, 5.0], [1.0, 4.0, 7.0], 4.0], 'variance': [[6.0, 6.0, 6.0], [0.6666666666666666, 0.6666666666666666, 0.6666666666666666], 6.666666666666667], 'standard deviation': [[2.449489742783178, 2.449489742783178, 2.449489742783178], [0.816496580927726, 0.816496580927726, 0.816496580927726], 2.581988897471611], 'max': [[6, 7, 8], [2, 5, 8], 8], 'min': [[0, 1, 2], [0, 3, 6], 0], 'sum': [[9, 12, 15], [3, 12, 21], 36]}\n"
          ]
        },
        {
          "output_type": "execute_result",
          "data": {
            "text/plain": [
              "<unittest.main.TestProgram at 0x7ee950f7abc0>"
            ]
          },
          "metadata": {},
          "execution_count": 29
        }
      ]
    }
  ]
}