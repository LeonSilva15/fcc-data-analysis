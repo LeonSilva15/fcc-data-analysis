{
  "nbformat": 4,
  "nbformat_minor": 0,
  "metadata": {
    "colab": {
      "provenance": [],
      "authorship_tag": "ABX9TyPABg3xdGzPBcA0pBLQBO7i",
      "include_colab_link": true
    },
    "kernelspec": {
      "name": "python3",
      "display_name": "Python 3"
    },
    "language_info": {
      "name": "python"
    }
  },
  "cells": [
    {
      "cell_type": "markdown",
      "metadata": {
        "id": "view-in-github",
        "colab_type": "text"
      },
      "source": [
        "<a href=\"https://colab.research.google.com/github/LeonSilva15/fcc-data-analysis/blob/main/page_view_time_series_visualizer.ipynb\" target=\"_parent\"><img src=\"https://colab.research.google.com/assets/colab-badge.svg\" alt=\"Open In Colab\"/></a>"
      ]
    },
    {
      "cell_type": "code",
      "execution_count": 1,
      "metadata": {
        "id": "OXBm9cdM3Rzi"
      },
      "outputs": [],
      "source": [
        "import matplotlib as mpl\n",
        "import matplotlib.pyplot as plt\n",
        "import pandas as pd\n",
        "import seaborn as sns\n",
        "import unittest\n",
        "from pandas.plotting import register_matplotlib_converters"
      ]
    },
    {
      "cell_type": "code",
      "source": [
        "register_matplotlib_converters()"
      ],
      "metadata": {
        "id": "bEG3iTc8hsGT"
      },
      "execution_count": null,
      "outputs": []
    },
    {
      "cell_type": "code",
      "source": [
        "!wget 'https://raw.githubusercontent.com/LeonSilva15/fcc-data-analysis/main/data/forum_pageviews.csv'"
      ],
      "metadata": {
        "id": "uw744ews3th5"
      },
      "execution_count": null,
      "outputs": []
    },
    {
      "cell_type": "code",
      "source": [
        "# Import data (Make sure to parse dates. Consider setting index column to 'date'.)\n",
        "df = None"
      ],
      "metadata": {
        "id": "XriSo8Qihu1u"
      },
      "execution_count": null,
      "outputs": []
    },
    {
      "cell_type": "code",
      "source": [
        "# Clean data\n",
        "df = None"
      ],
      "metadata": {
        "id": "5NVIhnEFhwU4"
      },
      "execution_count": null,
      "outputs": []
    },
    {
      "cell_type": "code",
      "source": [
        "def draw_line_plot():\n",
        "    # Draw line plot\n",
        "\n",
        "\n",
        "\n",
        "\n",
        "\n",
        "    # Save image and return fig (don't change this part)\n",
        "    fig.savefig('line_plot.png')\n",
        "    return fig\n",
        "\n",
        "def draw_bar_plot():\n",
        "    # Copy and modify data for monthly bar plot\n",
        "    df_bar = None\n",
        "\n",
        "    # Draw bar plot\n",
        "\n",
        "\n",
        "\n",
        "\n",
        "\n",
        "    # Save image and return fig (don't change this part)\n",
        "    fig.savefig('bar_plot.png')\n",
        "    return fig\n",
        "\n",
        "def draw_box_plot():\n",
        "    # Prepare data for box plots (this part is done!)\n",
        "    df_box = df.copy()\n",
        "    df_box.reset_index(inplace=True)\n",
        "    df_box['year'] = [d.year for d in df_box.date]\n",
        "    df_box['month'] = [d.strftime('%b') for d in df_box.date]\n",
        "\n",
        "    # Draw box plots (using Seaborn)\n",
        "\n",
        "\n",
        "\n",
        "\n",
        "\n",
        "    # Save image and return fig (don't change this part)\n",
        "    fig.savefig('box_plot.png')\n",
        "    return fig\n"
      ],
      "metadata": {
        "id": "oRvDGFL9hxn-"
      },
      "execution_count": null,
      "outputs": []
    },
    {
      "cell_type": "code",
      "source": [
        "time_series_visualizer.draw_line_plot()\n",
        "time_series_visualizer.draw_bar_plot()\n",
        "time_series_visualizer.draw_box_plot()"
      ],
      "metadata": {
        "id": "atwA4OfMhzTX"
      },
      "execution_count": null,
      "outputs": []
    },
    {
      "cell_type": "code",
      "source": [
        "class DataCleaningTestCase(unittest.TestCase):\n",
        "    def test_data_cleaning(self):\n",
        "        actual = int(time_series_visualizer.df.count(numeric_only=True))\n",
        "        expected = 1238\n",
        "        self.assertEqual(actual, expected, \"Expected DataFrame count after cleaning to be 1238.\")\n",
        "\n",
        "class LinePlotTestCase(unittest.TestCase):\n",
        "    def setUp(self):\n",
        "        self.fig = time_series_visualizer.draw_line_plot()\n",
        "        self.ax = self.fig.axes[0]\n",
        "\n",
        "    def test_line_plot_title(self):\n",
        "        actual = self.ax.get_title()\n",
        "        expected = \"Daily freeCodeCamp Forum Page Views 5/2016-12/2019\"\n",
        "        self.assertEqual(actual, expected, \"Expected line plot title to be 'Daily freeCodeCamp Forum Page Views 5/2016-12/2019'\")\n",
        "\n",
        "    def test_line_plot_labels(self):\n",
        "        actual = self.ax.get_xlabel()\n",
        "        expected = \"Date\"\n",
        "        self.assertEqual(actual, expected, \"Expected line plot xlabel to be 'Date'\")\n",
        "        actual = self.ax.get_ylabel()\n",
        "        expected = \"Page Views\"\n",
        "        self.assertEqual(actual, expected, \"Expected line plot ylabel to be 'Page Views'\")\n",
        "\n",
        "    def test_line_plot_data_quantity(self):\n",
        "        actual = len(self.ax.lines[0].get_ydata())\n",
        "        expected = 1238\n",
        "        self.assertEqual(actual, expected, \"Expected number of data points in line plot to be 1238.\")\n",
        "\n",
        "\n",
        "class BarPlotTestCase(unittest.TestCase):\n",
        "    def setUp(self):\n",
        "        self.fig = time_series_visualizer.draw_bar_plot()\n",
        "        self.ax = self.fig.axes[0]\n",
        "\n",
        "    def test_bar_plot_legend_labels(self):\n",
        "        actual = []\n",
        "        for label in self.ax.get_legend().get_texts():\n",
        "          actual.append(label.get_text())\n",
        "        expected = ['January', 'February', 'March', 'April', 'May', 'June', 'July', 'August', 'September', 'October', 'November', 'December']\n",
        "        self.assertEqual(actual, expected, \"Expected bar plot legend labels to be months of the year.\")\n",
        "\n",
        "    def test_bar_plot_labels(self):\n",
        "        actual = self.ax.get_xlabel()\n",
        "        expected = \"Years\"\n",
        "        self.assertEqual(actual, expected, \"Expected bar plot xlabel to be 'Years'\")\n",
        "        actual = self.ax.get_ylabel()\n",
        "        expected = \"Average Page Views\"\n",
        "        self.assertEqual(actual, expected, \"Expected bar plot ylabel to be 'Average Page Views'\")\n",
        "        actual = []\n",
        "        for label in self.ax.get_xaxis().get_majorticklabels():\n",
        "            actual.append(label.get_text())\n",
        "        expected = ['2016', '2017', '2018', '2019']\n",
        "        self.assertEqual(actual, expected, \"Expected bar plot secondary labels to be '2016', '2017', '2018', '2019'\")\n",
        "\n",
        "    def test_bar_plot_number_of_bars(self):\n",
        "        actual = len([rect for rect in self.ax.get_children() if isinstance(rect, mpl.patches.Rectangle)])\n",
        "        expected = 49\n",
        "        self.assertEqual(actual, expected, \"Expected a different number of bars in bar chart.\")\n",
        "\n",
        "\n",
        "class BoxPlotTestCase(unittest.TestCase):\n",
        "    def setUp(self):\n",
        "        self.fig = time_series_visualizer.draw_box_plot()\n",
        "        self.ax1 = self.fig.axes[0]\n",
        "        self.ax2 = self.fig.axes[1]\n",
        "\n",
        "    def test_box_plot_number(self):\n",
        "        actual = len(self.fig.get_axes())\n",
        "        expected = 2\n",
        "        self.assertEqual(actual, expected, \"Expected two box plots in figure.\")\n",
        "\n",
        "    def test_box_plot_labels(self):\n",
        "        actual = self.ax1.get_xlabel()\n",
        "        expected = \"Year\"\n",
        "        self.assertEqual(actual, expected, \"Expected box plot 1 xlabel to be 'Year'\")\n",
        "        actual = self.ax1.get_ylabel()\n",
        "        expected = \"Page Views\"\n",
        "        self.assertEqual(actual, expected, \"Expected box plot 1 ylabel to be 'Page Views'\")\n",
        "        actual = self.ax2.get_xlabel()\n",
        "        expected = \"Month\"\n",
        "        self.assertEqual(actual, expected, \"Expected box plot 2 xlabel to be 'Month'\")\n",
        "        actual = self.ax2.get_ylabel()\n",
        "        expected = \"Page Views\"\n",
        "        self.assertEqual(actual, expected, \"Expected box plot 2 ylabel to be 'Page Views'\")\n",
        "        actual = []\n",
        "        for label in self.ax1.get_xaxis().get_majorticklabels():\n",
        "            actual.append(label.get_text())\n",
        "        expected = ['2016', '2017', '2018', '2019']\n",
        "        self.assertEqual(actual, expected, \"Expected box plot 1 secondary labels to be '2016', '2017', '2018', '2019'\")\n",
        "        actual = []\n",
        "        for label in self.ax2.get_xaxis().get_majorticklabels():\n",
        "            actual.append(label.get_text())\n",
        "        expected = ['Jan', 'Feb', 'Mar', 'Apr', 'May', 'Jun', 'Jul', 'Aug', 'Sep', 'Oct', 'Nov', 'Dec']\n",
        "        self.assertEqual(actual, expected, \"Expected box plot 2 secondary labels to be 'Jan', 'Feb', 'Mar', 'Apr', 'May', 'Jun', 'Jul', 'Aug', 'Sep', 'Oct', 'Nov', 'Dec'\")\n",
        "        actual = []\n",
        "        for label in self.ax1.get_yaxis().get_majorticklabels():\n",
        "            actual.append(label.get_text())\n",
        "        expected = ['0', '20000', '40000', '60000', '80000', '100000', '120000', '140000', '160000', '180000', '200000']\n",
        "        self.assertEqual(actual, expected, \"Expected box plot 1 secondary labels to be '0', '20000', '40000', '60000', '80000', '100000', '120000', '140000', '160000', '180000', '200000'\")\n",
        "\n",
        "    def test_box_plot_titles(self):\n",
        "        actual = self.ax1.get_title()\n",
        "        expected = \"Year-wise Box Plot (Trend)\"\n",
        "        self.assertEqual(actual, expected, \"Expected box plot 1 title to be 'Year-wise Box Plot (Trend)'\")\n",
        "        actual = self.ax2.get_title()\n",
        "        expected = \"Month-wise Box Plot (Seasonality)\"\n",
        "        self.assertEqual(actual, expected, \"Expected box plot 2 title to be 'Month-wise Box Plot (Seasonality)'\")\n",
        "\n",
        "    def test_box_plot_number_of_boxes(self):\n",
        "        actual = len(self.ax1.lines) / 6 # Every box has 6 lines\n",
        "        expected = 4\n",
        "        self.assertEqual(actual, expected, \"Expected four boxes in box plot 1\")\n",
        "        actual = len(self.ax2.lines) / 6 # Every box has 6 lines\n",
        "        expected = 12\n",
        "        self.assertEqual(actual, expected, \"Expected 12 boxes in box plot 2\")"
      ],
      "metadata": {
        "id": "kahs0Q_fh04j"
      },
      "execution_count": null,
      "outputs": []
    },
    {
      "cell_type": "code",
      "source": [
        "# Run unit tests\n",
        "unittest.main( argv=[''], verbosity=2, exit=False )"
      ],
      "metadata": {
        "id": "-ezVjSJDh2sN"
      },
      "execution_count": null,
      "outputs": []
    }
  ]
}